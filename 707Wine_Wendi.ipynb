{
 "cells": [
  {
   "cell_type": "markdown",
   "metadata": {},
   "source": [
    "# Benji, Wendi, Yiwen"
   ]
  },
  {
   "cell_type": "markdown",
   "metadata": {},
   "source": [
    "Dataset can be downloaded at:\n",
    "\n",
    "https://www.kaggle.com/zynicide/wine-reviews"
   ]
  },
  {
   "cell_type": "code",
   "execution_count": 27,
   "metadata": {
    "collapsed": false
   },
   "outputs": [
    {
     "name": "stderr",
     "output_type": "stream",
     "text": [
      "Updating HTML index of packages in '.Library'\n",
      "Making 'packages.html' ... done\n"
     ]
    }
   ],
   "source": [
    "install.packages(\"glmnet\")"
   ]
  },
  {
   "cell_type": "code",
   "execution_count": 28,
   "metadata": {
    "collapsed": false
   },
   "outputs": [
    {
     "name": "stderr",
     "output_type": "stream",
     "text": [
      "Loaded glmnet 2.0-16\n",
      "\n"
     ]
    }
   ],
   "source": [
    "library(readr)\n",
    "library(dplyr)\n",
    "library(tidyr)\n",
    "library(ggplot2)\n",
    "library(gbm)\n",
    "library(gam)\n",
    "library(stringr)\n",
    "library(Matrix)\n",
    "library(glmnet)"
   ]
  },
  {
   "cell_type": "markdown",
   "metadata": {},
   "source": [
    "Read in the data, drop duplicates, drop `description`, `winery`, and `taster_twitter_handle`."
   ]
  },
  {
   "cell_type": "code",
   "execution_count": 2,
   "metadata": {
    "collapsed": false
   },
   "outputs": [
    {
     "name": "stderr",
     "output_type": "stream",
     "text": [
      "Warning message:\n",
      "“Missing column names filled in: 'X1' [1]”Parsed with column specification:\n",
      "cols(\n",
      "  X1 = col_double(),\n",
      "  country = col_character(),\n",
      "  description = col_character(),\n",
      "  designation = col_character(),\n",
      "  points = col_double(),\n",
      "  price = col_double(),\n",
      "  province = col_character(),\n",
      "  region_1 = col_character(),\n",
      "  region_2 = col_character(),\n",
      "  taster_name = col_character(),\n",
      "  taster_twitter_handle = col_character(),\n",
      "  title = col_character(),\n",
      "  variety = col_character(),\n",
      "  winery = col_character()\n",
      ")\n"
     ]
    }
   ],
   "source": [
    "read_csv(\"Data/wine-reviews/winemag-data-130k-v2.csv\") %>% select(-X1) %>% unique %>% \n",
    "select(-description, -winery, -taster_twitter_handle) -> data"
   ]
  },
  {
   "cell_type": "markdown",
   "metadata": {},
   "source": [
    "In this notebook, we will attempt to automate some of the data munging/imputation. "
   ]
  },
  {
   "cell_type": "markdown",
   "metadata": {},
   "source": [
    "We want to scale `points` by the taster, since the distribution of points is likely dependent on the taster. Therefore, we will attempt two different methods of unifying this distribution: scaling by standardization and scaling by percentile of score."
   ]
  },
  {
   "cell_type": "code",
   "execution_count": 3,
   "metadata": {
    "collapsed": false
   },
   "outputs": [],
   "source": [
    "scale_taster <- function(points){\n",
    "    # takes a vector of numbers, subtracts every element by the mean of the vector, and then\n",
    "    # divides every element by the standard deviation of the vector\n",
    "    \n",
    "    return((points - mean(points, na.rm = TRUE)) / sd(points, na.rm = TRUE))\n",
    "}"
   ]
  },
  {
   "cell_type": "code",
   "execution_count": 4,
   "metadata": {
    "collapsed": true
   },
   "outputs": [],
   "source": [
    "percentile_taster <- function(x){\n",
    "    # takes a vector of numbers, ranks every element and divides by n, giving the percentile of each element\n",
    "    trunc(rank(x))/length(x) * 100\n",
    "}"
   ]
  },
  {
   "cell_type": "code",
   "execution_count": 5,
   "metadata": {
    "collapsed": false
   },
   "outputs": [],
   "source": [
    "data <- data %>% group_by(taster_name) %>% mutate(\"Scaled Points\" = scale_taster(points))"
   ]
  },
  {
   "cell_type": "code",
   "execution_count": 6,
   "metadata": {
    "collapsed": false
   },
   "outputs": [],
   "source": [
    "data <- data %>% group_by(taster_name) %>% mutate(\"Percentile Points\" = percentile_taster(points))"
   ]
  },
  {
   "cell_type": "markdown",
   "metadata": {},
   "source": [
    "We want to reduce the number of provinces. If a given province only appears less than 1% of the time, we want to change that province to its country instead. However, we want to distinguish these miscellaneous provinces from the major ones, so we will call it `country_other`."
   ]
  },
  {
   "cell_type": "code",
   "execution_count": 7,
   "metadata": {
    "collapsed": true
   },
   "outputs": [],
   "source": [
    "tab <- data %>% group_by(province) %>% summarize(\"Proportion\" = n()/nrow(data))\n",
    "tab <- tab[tab$Proportion > 0.01, ]\n",
    "\n",
    "tabcountry <-  data %>% group_by(country) %>% summarize(\"Proportion\" = n()/nrow(data))\n",
    "tabcountry <- tabcountry[tabcountry$Proportion > 0.01, ]"
   ]
  },
  {
   "cell_type": "code",
   "execution_count": 8,
   "metadata": {
    "collapsed": true
   },
   "outputs": [],
   "source": [
    "data$country_other <- ifelse(data$country %in% tabcountry$country, \n",
    "                                paste0(data$country, \"_other\"), data$country)\n",
    "data$location <- ifelse(data$province %in% tab$province, data$province,\n",
    "                                     data$country_other)"
   ]
  },
  {
   "cell_type": "markdown",
   "metadata": {},
   "source": [
    "Now that we have consolidated provinces under the `location` variable, we can drop `province` and `country_other` since we no longer have any need for them."
   ]
  },
  {
   "cell_type": "code",
   "execution_count": 9,
   "metadata": {
    "collapsed": false,
    "scrolled": true
   },
   "outputs": [],
   "source": [
    "data <- data %>% select(-province, -country_other)"
   ]
  },
  {
   "cell_type": "code",
   "execution_count": 10,
   "metadata": {
    "collapsed": true
   },
   "outputs": [],
   "source": [
    "year <- str_extract_all(data$title, \"[1-2][09][0-9]{2}\")"
   ]
  },
  {
   "cell_type": "code",
   "execution_count": 11,
   "metadata": {
    "collapsed": false
   },
   "outputs": [],
   "source": [
    "data$year <- lapply(year, function(x){\n",
    "    x = x %>% as.numeric\n",
    "    if(!all(is.na(x))){\n",
    "        #newx <- max(x[(x > 1900) & (x < 2018)])\n",
    "        #return(newx)\n",
    "        return(max(x))\n",
    "    }\n",
    "    else {\n",
    "        return(NA) \n",
    "    }}) %>% unlist"
   ]
  },
  {
   "cell_type": "code",
   "execution_count": 12,
   "metadata": {
    "collapsed": false,
    "scrolled": true
   },
   "outputs": [
    {
     "data": {
      "text/plain": [
       "   Min. 1st Qu.  Median    Mean 3rd Qu.    Max.    NA's \n",
       "   1904    2009    2011    2011    2013    2900    4285 "
      ]
     },
     "metadata": {},
     "output_type": "display_data"
    }
   ],
   "source": [
    "summary(data$year)"
   ]
  },
  {
   "cell_type": "code",
   "execution_count": 155,
   "metadata": {
    "collapsed": false
   },
   "outputs": [],
   "source": [
    "data1 <- data\n",
    "data1[which(is.na(data1$taster_name)), \"taster_name\"] <- \"Missing\"\n",
    "data1$taster_name <- addNA(data1$taster_name)\n",
    "data1$location <- addNA(data1$location)\n",
    "\n",
    "data1 %>% group_by(variety) %>% summarize(\"Average_Price\" = mean(price, na.rm = T),\"Count\" = n()) %>% \n",
    "    filter(is.na(Average_Price) | Count < 50) %>% select(variety) %>% unlist() -> drop_var\n",
    "\n",
    "data1 <- data1[-which(data1$variety%in%drop_var),]\n",
    "\n",
    "data1$variety <- addNA(data1$variety)"
   ]
  },
  {
   "cell_type": "code",
   "execution_count": 156,
   "metadata": {
    "collapsed": false
   },
   "outputs": [
    {
     "data": {
      "text/html": [
       "<ol class=list-inline>\n",
       "\t<li>115094</li>\n",
       "\t<li>13</li>\n",
       "</ol>\n"
      ],
      "text/latex": [
       "\\begin{enumerate*}\n",
       "\\item 115094\n",
       "\\item 13\n",
       "\\end{enumerate*}\n"
      ],
      "text/markdown": [
       "1. 115094\n",
       "2. 13\n",
       "\n",
       "\n"
      ],
      "text/plain": [
       "[1] 115094     13"
      ]
     },
     "metadata": {},
     "output_type": "display_data"
    }
   ],
   "source": [
    "dim(data1)"
   ]
  },
  {
   "cell_type": "markdown",
   "metadata": {},
   "source": [
    "We want to impute `price` by the average price of the missing wine's variety, i.e. we will group by variety, take the mean, and then use that value to impute. However, we won't be able to impute the price of wines where the variety has only missing prices because then the mean wouldn't be defined. Thus, these cases will be removed."
   ]
  },
  {
   "cell_type": "code",
   "execution_count": 15,
   "metadata": {
    "collapsed": true
   },
   "outputs": [],
   "source": [
    "impute_mean <- function(x) replace(x, is.na(x), mean(x, na.rm = TRUE))\n",
    "    # impute_mean replaces missing values with the average value of a group"
   ]
  },
  {
   "cell_type": "code",
   "execution_count": 112,
   "metadata": {
    "collapsed": true
   },
   "outputs": [],
   "source": [
    "clean <- function(df){\n",
    "    # clean removes the varieties that only have missing prices, and are thus unimputable by our rule,\n",
    "    # and then it imputes the remaining missing prices using the average price of that wine's variety\n",
    "    \n",
    "    df %>% group_by(variety) %>% summarize(\"Average_Price\" = mean(price, na.rm = T), \n",
    "                                           \"Count\" = n()) %>% \n",
    "    filter(is.na(Average_Price)) %>% select(variety) %>% unlist() -> drop_variety \n",
    "    \n",
    "    df %>% filter(!(variety %in% drop_variety)) -> sample2\n",
    "    \n",
    "    return(sample2 %>% group_by(variety) %>% mutate(price = impute_mean(price)))\n",
    "}"
   ]
  },
  {
   "cell_type": "markdown",
   "metadata": {},
   "source": [
    "For lasso/ridge model: need to convert to sparse matrix"
   ]
  },
  {
   "cell_type": "code",
   "execution_count": 161,
   "metadata": {
    "collapsed": false,
    "scrolled": true
   },
   "outputs": [
    {
     "name": "stderr",
     "output_type": "stream",
     "text": [
      "Warning message in split.default(c(1:nrow(data1)), c(1:k)):\n",
      "“data length is not a multiple of split variable”"
     ]
    }
   ],
   "source": [
    "set.seed(2018)\n",
    "k <- 10\n",
    "sp <- split(c(1:nrow(data1)),c(1:k))"
   ]
  },
  {
   "cell_type": "code",
   "execution_count": 177,
   "metadata": {
    "collapsed": true
   },
   "outputs": [],
   "source": [
    "lasso.err <- c()\n",
    "ridge.err <- c()"
   ]
  },
  {
   "cell_type": "code",
   "execution_count": 179,
   "metadata": {
    "collapsed": false,
    "scrolled": true
   },
   "outputs": [
    {
     "data": {
      "text/html": [
       "18.5310503587605"
      ],
      "text/latex": [
       "18.5310503587605"
      ],
      "text/markdown": [
       "18.5310503587605"
      ],
      "text/plain": [
       "[1] 18.53105"
      ]
     },
     "metadata": {},
     "output_type": "display_data"
    },
    {
     "data": {
      "text/html": [
       "24.1362372688394"
      ],
      "text/latex": [
       "24.1362372688394"
      ],
      "text/markdown": [
       "24.1362372688394"
      ],
      "text/plain": [
       "[1] 24.13624"
      ]
     },
     "metadata": {},
     "output_type": "display_data"
    }
   ],
   "source": [
    "for(i in 1:k){\n",
    "    train <- data1[-sp[[k]], ]\n",
    "    test <- data1[sp[[k]], ]\n",
    "    \n",
    "    cleanwine_train <- clean(train)\n",
    "    cleanwine_test <- clean(test)\n",
    "\n",
    "    cleanwine_train <- cleanwine_train %>% select(points,price,taster_name,variety,location)\n",
    "    cleanwine_test <- cleanwine_test %>% select(points,price,taster_name,variety,location)\n",
    "    \n",
    "    trn.mtx <- model.matrix(~.,cleanwine_train)\n",
    "    trn.smtx <- Matrix(trn.mtx,sparse=T)[,-1]\n",
    "    \n",
    "    tst.mtx <- model.matrix(~.,cleanwine_test)\n",
    "    tst.smtx <- Matrix(tst.mtx,sparse=T)[,-1]\n",
    "    \n",
    "    fit.lasso <- cv.glmnet(x=trn.smtx,cleanwine_train$price,alpha = 1,type.measure = \"mae\") \n",
    "    l.err <- predict(fit.lasso,newx = tst.smtx,type = 'response')\n",
    "    lasso.err <- c(lasso.err,(l.err-cleanwine_test$price)^2)\n",
    " \n",
    "    fit.ridge <- cv.glmnet(x=trn.smtx,cleanwine_train$price,alpha=0,type.measure = \"mae\")\n",
    "    r.err <- predict(fit.ridge,newx = tst.smtx, type = 'response')\n",
    "    ridge.err <- c(ridge.err,(r.err-cleanwine_test$price)^2)\n",
    "}  \n",
    "mean(lasso.err)\n",
    "mean(ridge.err)"
   ]
  }
 ],
 "metadata": {
  "kernelspec": {
   "display_name": "R",
   "language": "R",
   "name": "ir"
  },
  "language_info": {
   "codemirror_mode": "r",
   "file_extension": ".r",
   "mimetype": "text/x-r-source",
   "name": "R",
   "pygments_lexer": "r",
   "version": "3.3.1"
  }
 },
 "nbformat": 4,
 "nbformat_minor": 2
}
