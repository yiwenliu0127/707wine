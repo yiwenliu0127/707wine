{
 "cells": [
  {
   "cell_type": "markdown",
   "metadata": {},
   "source": [
    "# Benji, Wendi, Yiwen"
   ]
  },
  {
   "cell_type": "markdown",
   "metadata": {},
   "source": [
    "Dataset can be downloaded at:\n",
    "\n",
    "https://www.kaggle.com/zynicide/wine-reviews"
   ]
  },
  {
   "cell_type": "code",
   "execution_count": 24,
   "metadata": {
    "collapsed": false
   },
   "outputs": [],
   "source": [
    "library(readr)\n",
    "library(dplyr)\n",
    "library(tidyr)\n",
    "library(ggplot2)\n",
    "library(gbm)\n",
    "library(gam)\n",
    "library(stringr)"
   ]
  },
  {
   "cell_type": "markdown",
   "metadata": {},
   "source": [
    "Read in the data, drop duplicates, drop `description`, `winery`, and `taster_twitter_handle`."
   ]
  },
  {
   "cell_type": "code",
   "execution_count": 2,
   "metadata": {
    "collapsed": false
   },
   "outputs": [
    {
     "name": "stderr",
     "output_type": "stream",
     "text": [
      "Warning message:\n",
      "“Missing column names filled in: 'X1' [1]”Parsed with column specification:\n",
      "cols(\n",
      "  X1 = col_integer(),\n",
      "  country = col_character(),\n",
      "  description = col_character(),\n",
      "  designation = col_character(),\n",
      "  points = col_integer(),\n",
      "  price = col_double(),\n",
      "  province = col_character(),\n",
      "  region_1 = col_character(),\n",
      "  region_2 = col_character(),\n",
      "  taster_name = col_character(),\n",
      "  taster_twitter_handle = col_character(),\n",
      "  title = col_character(),\n",
      "  variety = col_character(),\n",
      "  winery = col_character()\n",
      ")\n"
     ]
    }
   ],
   "source": [
    "read_csv(\"Data/wine-reviews/winemag-data-130k-v2.csv\") %>% select(-X1) %>% unique %>% \n",
    "select(-description, -winery, -taster_twitter_handle) -> data"
   ]
  },
  {
   "cell_type": "markdown",
   "metadata": {},
   "source": [
    "In this notebook, we will attempt to automate some of the data munging/imputation. "
   ]
  },
  {
   "cell_type": "markdown",
   "metadata": {},
   "source": [
    "We want to scale `points` by the taster, since the distribution of points is likely dependent on the taster. Therefore, we will attempt two different methods of unifying this distribution: scaling by standardization and scaling by percentile of score."
   ]
  },
  {
   "cell_type": "code",
   "execution_count": 22,
   "metadata": {
    "collapsed": false
   },
   "outputs": [],
   "source": [
    "scale_taster <- function(points){\n",
    "    # takes a vector of numbers, subtracts every element by the mean of the vector, and then\n",
    "    # divides every element by the standard deviation of the vector\n",
    "    \n",
    "    return((points - mean(points, na.rm = TRUE)) / sd(points, na.rm = TRUE))\n",
    "}"
   ]
  },
  {
   "cell_type": "code",
   "execution_count": 23,
   "metadata": {
    "collapsed": true
   },
   "outputs": [],
   "source": [
    "percentile_taster <- function(x){\n",
    "    # takes a vector of numbers, ranks every element and divides by n, giving the percentile of each element\n",
    "    trunc(rank(x))/length(x) * 100\n",
    "}"
   ]
  },
  {
   "cell_type": "code",
   "execution_count": 19,
   "metadata": {
    "collapsed": false
   },
   "outputs": [],
   "source": [
    "data <- data %>% group_by(taster_name) %>% mutate(\"Scaled Points\" = scale_taster(points))"
   ]
  },
  {
   "cell_type": "code",
   "execution_count": 20,
   "metadata": {
    "collapsed": false
   },
   "outputs": [],
   "source": [
    "data <- data %>% group_by(taster_name) %>% mutate(\"Percentile Points\" = percentile_taster(points))"
   ]
  },
  {
   "cell_type": "markdown",
   "metadata": {},
   "source": [
    "We want to reduce the number of provinces. If a given province only appears less than 1% of the time, we want to change that province to its country instead. However, we want to distinguish these miscellaneous provinces from the major ones, so we will call it `country_other`."
   ]
  },
  {
   "cell_type": "code",
   "execution_count": 12,
   "metadata": {
    "collapsed": true
   },
   "outputs": [],
   "source": [
    "tab <- data %>% group_by(province) %>% summarize(\"Proportion\" = n()/nrow(data))\n",
    "tab <- tab[tab$Proportion > 0.01, ]\n",
    "\n",
    "tabcountry <-  data %>% group_by(country) %>% summarize(\"Proportion\" = n()/nrow(data))\n",
    "tabcountry <- tabcountry[tabcountry$Proportion > 0.01, ]"
   ]
  },
  {
   "cell_type": "code",
   "execution_count": 13,
   "metadata": {
    "collapsed": true
   },
   "outputs": [],
   "source": [
    "data$country_other <- ifelse(data$country %in% tabcountry$country, \n",
    "                                paste0(data$country, \"_other\"), data$country)\n",
    "data$location <- ifelse(data$province %in% tab$province, data$province,\n",
    "                                     data$country_other)"
   ]
  },
  {
   "cell_type": "markdown",
   "metadata": {},
   "source": [
    "Now that we have consolidated provinces under the `location` variable, we can drop `province` and `country_other` since we no longer have any need for them."
   ]
  },
  {
   "cell_type": "code",
   "execution_count": 16,
   "metadata": {
    "collapsed": false,
    "scrolled": true
   },
   "outputs": [],
   "source": [
    "data <- data %>% select(-province, -country_other)"
   ]
  },
  {
   "cell_type": "code",
   "execution_count": 39,
   "metadata": {
    "collapsed": true
   },
   "outputs": [],
   "source": [
    "year <- str_extract_all(data$title, \"[1-2][09][0-9]{2}\")"
   ]
  },
  {
   "cell_type": "code",
   "execution_count": 40,
   "metadata": {
    "collapsed": false
   },
   "outputs": [],
   "source": [
    "data$year <- lapply(year, function(x){\n",
    "    x = x %>% as.numeric\n",
    "    if(!all(is.na(x))){\n",
    "        #newx <- max(x[(x > 1900) & (x < 2018)])\n",
    "        #return(newx)\n",
    "        return(max(x))\n",
    "    }\n",
    "    else {\n",
    "        return(NA) \n",
    "    }}) %>% unlist"
   ]
  },
  {
   "cell_type": "code",
   "execution_count": 41,
   "metadata": {
    "collapsed": false
   },
   "outputs": [
    {
     "data": {
      "text/plain": [
       "   Min. 1st Qu.  Median    Mean 3rd Qu.    Max.    NA's \n",
       "   1904    2009    2011    2011    2013    2900    4285 "
      ]
     },
     "metadata": {},
     "output_type": "display_data"
    }
   ],
   "source": [
    "summary(data$year)"
   ]
  },
  {
   "cell_type": "markdown",
   "metadata": {},
   "source": [
    "We want to impute `price` by the average price of the missing wine's variety, i.e. we will group by variety, take the mean, and then use that value to impute. However, we won't be able to impute the price of wines where the variety has only missing prices because then the mean wouldn't be defined. Thus, these cases will be removed."
   ]
  },
  {
   "cell_type": "code",
   "execution_count": 4,
   "metadata": {
    "collapsed": true
   },
   "outputs": [],
   "source": [
    "impute_mean <- function(x) replace(x, is.na(x), mean(x, na.rm = TRUE))\n",
    "    # impute_mean replaces missing values with the average value of a group"
   ]
  },
  {
   "cell_type": "code",
   "execution_count": 5,
   "metadata": {
    "collapsed": true
   },
   "outputs": [],
   "source": [
    "clean <- function(df){\n",
    "    # clean removes the varieties that only have missing prices, and are thus unimputable by our rule,\n",
    "    # and then it imputes the remaining missing prices using the average price of that wine's variety\n",
    "    \n",
    "    df %>% group_by(variety) %>% summarize(\"Average_Price\" = mean(price, na.rm = T), \n",
    "                                           \"Count\" = n()) %>% \n",
    "    filter(is.na(Average_Price)) %>% select(variety) %>% unlist() -> drop_variety \n",
    "    \n",
    "    df %>% filter(!(variety %in% drop_variety)) -> sample2\n",
    "    \n",
    "    return(sample2 %>% group_by(variety) %>% mutate(price = impute_mean(price)))\n",
    "}"
   ]
  },
  {
   "cell_type": "markdown",
   "metadata": {},
   "source": [
    "For our gradient boosted machine, it cannot handle variables with many levels. Thus, we must drop title and winery if we want our gbm function to operate correctly. We also want to drop region_1 and region_2 since this is part of our process for handling missing data."
   ]
  },
  {
   "cell_type": "markdown",
   "metadata": {},
   "source": [
    "K-Fold Cross-Validation:"
   ]
  },
  {
   "cell_type": "code",
   "execution_count": null,
   "metadata": {
    "collapsed": false
   },
   "outputs": [],
   "source": [
    "set.seed(2018)\n",
    "k <- 10\n",
    "sp <- split(c(1:nrow(sample)), c(1:k))\n",
    "fold_error <- c()\n",
    "\n",
    "for(i in 1:k){\n",
    "    train <- sample[-sp[[k]], ]\n",
    "    test <- sample[sp[[k]], ]\n",
    "    \n",
    "    cleanwine_train <- clean(train)\n",
    "    cleanwine_test <- clean(test)\n",
    "    \n",
    "    cleanwine_train[which(is.na(cleanwine_train$taster_name)), \"taster_name\"] <- \"Missing\"\n",
    "    cleanwine_test[which(is.na(cleanwine_test$taster_name)), \"taster_name\"] <- \"Missing\"\n",
    "\n",
    "    cleanwine_train$country <- factor(cleanwine_train$country)\n",
    "    cleanwine_train$province <- factor(cleanwine_train$province)\n",
    "    cleanwine_train$taster_name <- factor(cleanwine_train$taster_name)\n",
    "    cleanwine_train$title <- factor(cleanwine_train$title)\n",
    "    cleanwine_train$variety <- factor(cleanwine_train$variety)\n",
    "    cleanwine_train$winery <- factor(cleanwine_train$winery)\n",
    "    \n",
    "    cleanwine_test$country <- factor(cleanwine_test$country)\n",
    "    cleanwine_test$province <- factor(cleanwine_test$province)\n",
    "    cleanwine_test$taster_name <- factor(cleanwine_test$taster_name)\n",
    "    cleanwine_test$title <- factor(cleanwine_test$title)\n",
    "    cleanwine_test$variety <- factor(cleanwine_test$variety)\n",
    "    cleanwine_test$winery <- factor(cleanwine_test$winery)\n",
    "\n",
    "    cleanwine_train <- cleanwine_train %>% select(-title, -winery, -region_1, -region_2)\n",
    "    cleanwine_test <- cleanwine_test %>% select(-title, -winery, -region_1, -region_2)\n",
    "\n",
    "    \n",
    "    gbmFit <- gbm(formula = price ~ ., data = cleanwine_train, \n",
    "                  n.trees = 1000, shrinkage = 0.01, interaction.depth = 2, cv.folds = 10, \n",
    "                  distribution = \"laplace\")\n",
    "\n",
    "    best_iter <- gbm.perf(gbmFit, method = \"cv\")\n",
    "    \n",
    "    abs_error <- abs(cleanwine_test$price - predict(gbmFit, newdata = cleanwine_test, n.trees = best_iter))\n",
    "    fold_error <- c(fold_error, mean(abs_error, na.rm = TRUE))\n",
    "}"
   ]
  },
  {
   "cell_type": "code",
   "execution_count": null,
   "metadata": {
    "collapsed": false
   },
   "outputs": [],
   "source": [
    "error_df <- data.frame(\"KFold\" = 1:k, \"MAE\" = fold_error)\n",
    "fold <- which(error_df$MAE == min(error_df$MAE))\n",
    "paste0(\"We will use fold #\", fold, \" to train our model.\")"
   ]
  },
  {
   "cell_type": "markdown",
   "metadata": {},
   "source": [
    "Now we will assess our model on the full data set."
   ]
  },
  {
   "cell_type": "code",
   "execution_count": null,
   "metadata": {
    "collapsed": false
   },
   "outputs": [],
   "source": [
    "train <- sample[-sp[[8]], ]\n",
    "    \n",
    "cleanwine_train <- clean(train)\n",
    "cleanwine_test <- clean(data %>% select(-description))\n",
    "    \n",
    "cleanwine_train[which(is.na(cleanwine_train$taster_name)), \"taster_name\"] <- \"Missing\"\n",
    "cleanwine_test[which(is.na(cleanwine_test$taster_name)), \"taster_name\"] <- \"Missing\"\n",
    "\n",
    "cleanwine_train$country <- factor(cleanwine_train$country)\n",
    "cleanwine_train$province <- factor(cleanwine_train$province)\n",
    "cleanwine_train$taster_name <- factor(cleanwine_train$taster_name)\n",
    "cleanwine_train$title <- factor(cleanwine_train$title)\n",
    "cleanwine_train$variety <- factor(cleanwine_train$variety)\n",
    "cleanwine_train$winery <- factor(cleanwine_train$winery)\n",
    "    \n",
    "cleanwine_test$country <- factor(cleanwine_test$country)\n",
    "cleanwine_test$province <- factor(cleanwine_test$province)\n",
    "cleanwine_test$taster_name <- factor(cleanwine_test$taster_name)\n",
    "cleanwine_test$title <- factor(cleanwine_test$title)\n",
    "cleanwine_test$variety <- factor(cleanwine_test$variety)\n",
    "cleanwine_test$winery <- factor(cleanwine_test$winery)\n",
    "\n",
    "cleanwine_train <- cleanwine_train %>% select(-title, -winery, -region_1, -region_2)\n",
    "cleanwine_test <- cleanwine_test %>% select(-title, -winery)\n",
    "# cleanwine_test <- cleanwine_test %>% select(-title, -winery, -region_1, -region_2)\n",
    "# note: our test data doesn't contain region_1 or region_2, so we must adjust our code accordingly...\n",
    "\n",
    "    \n",
    "gbmFit <- gbm(formula = price ~ ., data = cleanwine_train,\n",
    "              n.trees = 1000, shrinkage = 0.01, interaction.depth = 2, cv.folds = 10,\n",
    "              distribution = \"laplace\")\n",
    "\n",
    "best_iter <- gbm.perf(gbmFit, method = \"cv\")\n",
    "    \n",
    "abs_error <- abs(cleanwine_test$price - predict(gbmFit, newdata = cleanwine_test, n.trees = best_iter))"
   ]
  },
  {
   "cell_type": "code",
   "execution_count": null,
   "metadata": {
    "collapsed": false
   },
   "outputs": [],
   "source": [
    "print(mean(abs_error)) # our performance on the test data"
   ]
  },
  {
   "cell_type": "code",
   "execution_count": null,
   "metadata": {
    "collapsed": true
   },
   "outputs": [],
   "source": []
  }
 ],
 "metadata": {
  "kernelspec": {
   "display_name": "R",
   "language": "R",
   "name": "ir"
  },
  "language_info": {
   "codemirror_mode": "r",
   "file_extension": ".r",
   "mimetype": "text/x-r-source",
   "name": "R",
   "pygments_lexer": "r",
   "version": "3.3.1"
  }
 },
 "nbformat": 4,
 "nbformat_minor": 2
}
