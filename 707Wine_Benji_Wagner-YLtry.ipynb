{
 "cells": [
  {
   "cell_type": "code",
   "execution_count": 7,
   "metadata": {},
   "outputs": [
    {
     "ename": "ERROR",
     "evalue": "Error in library(readr): there is no package called ‘readr’\n",
     "output_type": "error",
     "traceback": [
      "Error in library(readr): there is no package called ‘readr’\nTraceback:\n",
      "1. library(readr)",
      "2. stop(txt, domain = NA)"
     ]
    }
   ],
   "source": [
    "library(readr)\n",
    "library(dplyr)\n",
    "library(tidyr)\n",
    "library(ggplot2)\n",
    "library(gbm)\n",
    "library(randomForest)"
   ]
  },
  {
   "cell_type": "code",
   "execution_count": 4,
   "metadata": {},
   "outputs": [
    {
     "name": "stderr",
     "output_type": "stream",
     "text": [
      "also installing the dependencies ‘fansi’, ‘utf8’, ‘pillar’, ‘rlang’, ‘Rcpp’, ‘tibble’, ‘hms’\n",
      "\n",
      "Warning message in install.packages(\"readr\"):\n",
      "“installation of package ‘fansi’ had non-zero exit status”Warning message in install.packages(\"readr\"):\n",
      "“installation of package ‘utf8’ had non-zero exit status”Warning message in install.packages(\"readr\"):\n",
      "“installation of package ‘rlang’ had non-zero exit status”Warning message in install.packages(\"readr\"):\n",
      "“installation of package ‘Rcpp’ had non-zero exit status”Warning message in install.packages(\"readr\"):\n",
      "“installation of package ‘pillar’ had non-zero exit status”Warning message in install.packages(\"readr\"):\n",
      "“installation of package ‘hms’ had non-zero exit status”Warning message in install.packages(\"readr\"):\n",
      "“installation of package ‘tibble’ had non-zero exit status”Warning message in install.packages(\"readr\"):\n",
      "“installation of package ‘readr’ had non-zero exit status”Updating HTML index of packages in '.Library'\n",
      "Making 'packages.html' ... done\n",
      "also installing the dependencies ‘bindr’, ‘fansi’, ‘utf8’, ‘bindrcpp’, ‘plogr’, ‘pillar’, ‘dplyr’, ‘glue’, ‘purrr’, ‘Rcpp’, ‘rlang’, ‘tibble’, ‘tidyselect’\n",
      "\n",
      "Warning message in install.packages(\"tidyr\"):\n",
      "“installation of package ‘fansi’ had non-zero exit status”Warning message in install.packages(\"tidyr\"):\n",
      "“installation of package ‘utf8’ had non-zero exit status”Warning message in install.packages(\"tidyr\"):\n",
      "“installation of package ‘glue’ had non-zero exit status”Warning message in install.packages(\"tidyr\"):\n",
      "“installation of package ‘Rcpp’ had non-zero exit status”Warning message in install.packages(\"tidyr\"):\n",
      "“installation of package ‘rlang’ had non-zero exit status”Warning message in install.packages(\"tidyr\"):\n",
      "“installation of package ‘bindrcpp’ had non-zero exit status”Warning message in install.packages(\"tidyr\"):\n",
      "“installation of package ‘pillar’ had non-zero exit status”Warning message in install.packages(\"tidyr\"):\n",
      "“installation of package ‘tibble’ had non-zero exit status”Warning message in install.packages(\"tidyr\"):\n",
      "“installation of package ‘purrr’ had non-zero exit status”Warning message in install.packages(\"tidyr\"):\n",
      "“installation of package ‘tidyselect’ had non-zero exit status”Warning message in install.packages(\"tidyr\"):\n",
      "“installation of package ‘dplyr’ had non-zero exit status”Warning message in install.packages(\"tidyr\"):\n",
      "“installation of package ‘tidyr’ had non-zero exit status”Updating HTML index of packages in '.Library'\n",
      "Making 'packages.html' ... done\n",
      "also installing the dependencies ‘gtable’, ‘Matrix’, ‘gridExtra’, ‘lattice’, ‘survival’\n",
      "\n",
      "Warning message in install.packages(\"gbm\"):\n",
      "“installation of package ‘lattice’ had non-zero exit status”Warning message in install.packages(\"gbm\"):\n",
      "“installation of package ‘Matrix’ had non-zero exit status”Warning message in install.packages(\"gbm\"):\n",
      "“installation of package ‘survival’ had non-zero exit status”Warning message in install.packages(\"gbm\"):\n",
      "“installation of package ‘gbm’ had non-zero exit status”Updating HTML index of packages in '.Library'\n",
      "Making 'packages.html' ... done\n",
      "also installing the dependencies ‘lattice’, ‘colorspace’, ‘fansi’, ‘utf8’, ‘nlme’, ‘Matrix’, ‘Rcpp’, ‘labeling’, ‘munsell’, ‘RColorBrewer’, ‘pillar’, ‘lazyeval’, ‘MASS’, ‘mgcv’, ‘plyr’, ‘reshape2’, ‘rlang’, ‘scales’, ‘tibble’, ‘viridisLite’, ‘withr’\n",
      "\n",
      "Warning message in install.packages(\"ggplot2\"):\n",
      "“installation of package ‘lattice’ had non-zero exit status”Warning message in install.packages(\"ggplot2\"):\n",
      "“installation of package ‘colorspace’ had non-zero exit status”Warning message in install.packages(\"ggplot2\"):\n",
      "“installation of package ‘fansi’ had non-zero exit status”Warning message in install.packages(\"ggplot2\"):\n",
      "“installation of package ‘utf8’ had non-zero exit status”Warning message in install.packages(\"ggplot2\"):\n",
      "“installation of package ‘Rcpp’ had non-zero exit status”Warning message in install.packages(\"ggplot2\"):\n",
      "“installation of package ‘lazyeval’ had non-zero exit status”Warning message in install.packages(\"ggplot2\"):\n",
      "“installation of package ‘MASS’ had non-zero exit status”Warning message in install.packages(\"ggplot2\"):\n",
      "“installation of package ‘rlang’ had non-zero exit status”Warning message in install.packages(\"ggplot2\"):\n",
      "“installation of package ‘nlme’ had non-zero exit status”Warning message in install.packages(\"ggplot2\"):\n",
      "“installation of package ‘Matrix’ had non-zero exit status”Warning message in install.packages(\"ggplot2\"):\n",
      "“installation of package ‘munsell’ had non-zero exit status”Warning message in install.packages(\"ggplot2\"):\n",
      "“installation of package ‘pillar’ had non-zero exit status”Warning message in install.packages(\"ggplot2\"):\n",
      "“installation of package ‘plyr’ had non-zero exit status”Warning message in install.packages(\"ggplot2\"):\n",
      "“installation of package ‘mgcv’ had non-zero exit status”Warning message in install.packages(\"ggplot2\"):\n",
      "“installation of package ‘reshape2’ had non-zero exit status”Warning message in install.packages(\"ggplot2\"):\n",
      "“installation of package ‘scales’ had non-zero exit status”Warning message in install.packages(\"ggplot2\"):\n",
      "“installation of package ‘tibble’ had non-zero exit status”Warning message in install.packages(\"ggplot2\"):\n",
      "“installation of package ‘ggplot2’ had non-zero exit status”Updating HTML index of packages in '.Library'\n",
      "Making 'packages.html' ... done\n",
      "Warning message in install.packages(\"randomForest\"):\n",
      "“installation of package ‘randomForest’ had non-zero exit status”Updating HTML index of packages in '.Library'\n",
      "Making 'packages.html' ... done\n"
     ]
    }
   ],
   "source": [
    "install.packages(\"readr\")\n",
    "install.packages(\"tidyr\")\n",
    "install.packages(\"gbm\")\n",
    "install.packages(\"ggplot2\")\n",
    "install.packages(\"randomForest\")"
   ]
  },
  {
   "cell_type": "code",
   "execution_count": 8,
   "metadata": {},
   "outputs": [
    {
     "ename": "ERROR",
     "evalue": "Error in read_csv(\"Data/wine-reviews/cleanwine.csv\"): could not find function \"read_csv\"\n",
     "output_type": "error",
     "traceback": [
      "Error in read_csv(\"Data/wine-reviews/cleanwine.csv\"): could not find function \"read_csv\"\nTraceback:\n"
     ]
    }
   ],
   "source": [
    "sample <- read_csv(\"Data/wine-reviews/cleanwine.csv\")"
   ]
  },
  {
   "cell_type": "code",
   "execution_count": 2,
   "metadata": {},
   "outputs": [
    {
     "ename": "ERROR",
     "evalue": "Error in sample %>% head: could not find function \"%>%\"\n",
     "output_type": "error",
     "traceback": [
      "Error in sample %>% head: could not find function \"%>%\"\nTraceback:\n"
     ]
    }
   ],
   "source": [
    "sample %>% head"
   ]
  },
  {
   "cell_type": "code",
   "execution_count": 4,
   "metadata": {},
   "outputs": [
    {
     "data": {
      "text/html": [
       "<table>\n",
       "<thead><tr><th></th><th scope=col>country</th><th scope=col>taster_name</th><th scope=col>Average_Price</th><th scope=col>Count</th></tr></thead>\n",
       "<tbody>\n",
       "\t<tr><th scope=row>1</th><td>Egypt          </td><td>Susan Kostrzewa</td><td>NaN            </td><td>1              </td></tr>\n",
       "\t<tr><th scope=row>2</th><td>Greece    </td><td>Roger Voss</td><td>NaN       </td><td>1         </td></tr>\n",
       "\t<tr><th scope=row>3</th><td>Israel         </td><td>Susan Kostrzewa</td><td>NaN            </td><td>1              </td></tr>\n",
       "</tbody>\n",
       "</table>\n"
      ],
      "text/latex": [
       "\\begin{tabular}{r|llll}\n",
       "  & country & taster\\_name & Average\\_Price & Count\\\\\n",
       "\\hline\n",
       "\t1 & Egypt           & Susan Kostrzewa & NaN             & 1              \\\\\n",
       "\t2 & Greece     & Roger Voss & NaN        & 1         \\\\\n",
       "\t3 & Israel          & Susan Kostrzewa & NaN             & 1              \\\\\n",
       "\\end{tabular}\n"
      ],
      "text/plain": [
       "  country     taster_name Average_Price Count\n",
       "1   Egypt Susan Kostrzewa           NaN     1\n",
       "2  Greece      Roger Voss           NaN     1\n",
       "3  Israel Susan Kostrzewa           NaN     1"
      ]
     },
     "metadata": {},
     "output_type": "display_data"
    }
   ],
   "source": [
    "sample %>% group_by(country, taster_name) %>% summarize(\"Average_Price\" = mean(price, na.rm = T), \n",
    "                                                                                 \"Count\" = n()) %>% \n",
    "filter(is.na(Average_Price))"
   ]
  },
  {
   "cell_type": "code",
   "execution_count": 5,
   "metadata": {},
   "outputs": [
    {
     "data": {
      "text/html": [
       "<table>\n",
       "<thead><tr><th></th><th scope=col>country</th><th scope=col>taster_name</th><th scope=col>Count</th></tr></thead>\n",
       "<tbody>\n",
       "\t<tr><th scope=row>1</th><td>Argentina        </td><td>Michael Schachner</td><td>43               </td></tr>\n",
       "\t<tr><th scope=row>2</th><td>Australia     </td><td>Joe Czerwinski</td><td>23            </td></tr>\n",
       "\t<tr><th scope=row>3</th><td>Australia</td><td>NA       </td><td>5        </td></tr>\n",
       "\t<tr><th scope=row>4</th><td>Austria         </td><td>Anne Krebiehl MW</td><td>219             </td></tr>\n",
       "\t<tr><th scope=row>5</th><td>Austria   </td><td>Roger Voss</td><td>279       </td></tr>\n",
       "\t<tr><th scope=row>6</th><td>Brazil           </td><td>Michael Schachner</td><td>5                </td></tr>\n",
       "\t<tr><th scope=row>7</th><td>Canada        </td><td>Joe Czerwinski</td><td>1             </td></tr>\n",
       "\t<tr><th scope=row>8</th><td>Canada      </td><td>Paul Gregutt</td><td>1           </td></tr>\n",
       "\t<tr><th scope=row>9</th><td>Chile            </td><td>Michael Schachner</td><td>54               </td></tr>\n",
       "\t<tr><th scope=row>10</th><td>Croatia        </td><td>Susan Kostrzewa</td><td>2              </td></tr>\n",
       "\t<tr><th scope=row>11</th><td>Egypt          </td><td>Susan Kostrzewa</td><td>1              </td></tr>\n",
       "\t<tr><th scope=row>12</th><td>England         </td><td>Anne Krebiehl MW</td><td>4               </td></tr>\n",
       "\t<tr><th scope=row>13</th><td>France          </td><td>Anne Krebiehl MW</td><td>31              </td></tr>\n",
       "\t<tr><th scope=row>14</th><td>France        </td><td>Joe Czerwinski</td><td>48            </td></tr>\n",
       "\t<tr><th scope=row>15</th><td>France       </td><td>Lauren Buzzeo</td><td>11           </td></tr>\n",
       "\t<tr><th scope=row>16</th><td>France    </td><td>Roger Voss</td><td>3964      </td></tr>\n",
       "\t<tr><th scope=row>17</th><td>France</td><td>NA    </td><td>13    </td></tr>\n",
       "\t<tr><th scope=row>18</th><td>Georgia      </td><td>Mike DeSimone</td><td>2            </td></tr>\n",
       "\t<tr><th scope=row>19</th><td>Germany           </td><td>Anna Lee C. Iijima</td><td>26                </td></tr>\n",
       "\t<tr><th scope=row>20</th><td>Germany       </td><td>Joe Czerwinski</td><td>11            </td></tr>\n",
       "\t<tr><th scope=row>21</th><td>Germany</td><td>NA     </td><td>4      </td></tr>\n",
       "\t<tr><th scope=row>22</th><td>Greece    </td><td>Roger Voss</td><td>1         </td></tr>\n",
       "\t<tr><th scope=row>23</th><td>Greece         </td><td>Susan Kostrzewa</td><td>4              </td></tr>\n",
       "\t<tr><th scope=row>24</th><td>Hungary        </td><td>Susan Kostrzewa</td><td>1              </td></tr>\n",
       "\t<tr><th scope=row>25</th><td>Israel       </td><td>Lauren Buzzeo</td><td>5            </td></tr>\n",
       "\t<tr><th scope=row>26</th><td>Israel       </td><td>Mike DeSimone</td><td>7            </td></tr>\n",
       "\t<tr><th scope=row>27</th><td>Israel         </td><td>Susan Kostrzewa</td><td>1              </td></tr>\n",
       "\t<tr><th scope=row>28</th><td>Italy         </td><td>Joe Czerwinski</td><td>1             </td></tr>\n",
       "\t<tr><th scope=row>29</th><td>Italy        </td><td>Kerin O’Keefe</td><td>812          </td></tr>\n",
       "\t<tr><th scope=row>30</th><td>Italy            </td><td>Michael Schachner</td><td>6                </td></tr>\n",
       "\t<tr><th scope=row>31</th><td>Italy     </td><td>Roger Voss</td><td>12        </td></tr>\n",
       "\t<tr><th scope=row>32</th><td>Italy</td><td>NA   </td><td>1603 </td></tr>\n",
       "\t<tr><th scope=row>33</th><td>New Zealand   </td><td>Joe Czerwinski</td><td>38            </td></tr>\n",
       "\t<tr><th scope=row>34</th><td>Portugal  </td><td>Roger Voss</td><td>754       </td></tr>\n",
       "\t<tr><th scope=row>35</th><td>Slovenia          </td><td>Anna Lee C. Iijima</td><td>7                 </td></tr>\n",
       "\t<tr><th scope=row>36</th><td>South Africa </td><td>Lauren Buzzeo</td><td>100          </td></tr>\n",
       "\t<tr><th scope=row>37</th><td>South Africa</td><td>Roger Voss  </td><td>5           </td></tr>\n",
       "\t<tr><th scope=row>38</th><td>South Africa   </td><td>Susan Kostrzewa</td><td>1              </td></tr>\n",
       "\t<tr><th scope=row>39</th><td>Spain            </td><td>Michael Schachner</td><td>67               </td></tr>\n",
       "\t<tr><th scope=row>40</th><td>US                </td><td>Alexander Peartree</td><td>2                 </td></tr>\n",
       "\t<tr><th scope=row>41</th><td>US                </td><td>Anna Lee C. Iijima</td><td>10                </td></tr>\n",
       "\t<tr><th scope=row>42</th><td>US          </td><td>Carrie Dykes</td><td>1           </td></tr>\n",
       "\t<tr><th scope=row>43</th><td>US        </td><td>Jim Gordon</td><td>5         </td></tr>\n",
       "\t<tr><th scope=row>44</th><td>US           </td><td>Matt Kettmann</td><td>87           </td></tr>\n",
       "\t<tr><th scope=row>45</th><td>US          </td><td>Paul Gregutt</td><td>29          </td></tr>\n",
       "\t<tr><th scope=row>46</th><td>US              </td><td>Sean P. Sullivan</td><td>38              </td></tr>\n",
       "\t<tr><th scope=row>47</th><td>US             </td><td>Susan Kostrzewa</td><td>2              </td></tr>\n",
       "\t<tr><th scope=row>48</th><td>US            </td><td>Virginie Boone</td><td>26            </td></tr>\n",
       "\t<tr><th scope=row>49</th><td>US</td><td>NA</td><td>19</td></tr>\n",
       "</tbody>\n",
       "</table>\n"
      ],
      "text/latex": [
       "\\begin{tabular}{r|lll}\n",
       "  & country & taster\\_name & Count\\\\\n",
       "\\hline\n",
       "\t1 & Argentina         & Michael Schachner & 43               \\\\\n",
       "\t2 & Australia      & Joe Czerwinski & 23            \\\\\n",
       "\t3 & Australia & NA        & 5        \\\\\n",
       "\t4 & Austria          & Anne Krebiehl MW & 219             \\\\\n",
       "\t5 & Austria    & Roger Voss & 279       \\\\\n",
       "\t6 & Brazil            & Michael Schachner & 5                \\\\\n",
       "\t7 & Canada         & Joe Czerwinski & 1             \\\\\n",
       "\t8 & Canada       & Paul Gregutt & 1           \\\\\n",
       "\t9 & Chile             & Michael Schachner & 54               \\\\\n",
       "\t10 & Croatia         & Susan Kostrzewa & 2              \\\\\n",
       "\t11 & Egypt           & Susan Kostrzewa & 1              \\\\\n",
       "\t12 & England          & Anne Krebiehl MW & 4               \\\\\n",
       "\t13 & France           & Anne Krebiehl MW & 31              \\\\\n",
       "\t14 & France         & Joe Czerwinski & 48            \\\\\n",
       "\t15 & France        & Lauren Buzzeo & 11           \\\\\n",
       "\t16 & France     & Roger Voss & 3964      \\\\\n",
       "\t17 & France & NA     & 13    \\\\\n",
       "\t18 & Georgia       & Mike DeSimone & 2            \\\\\n",
       "\t19 & Germany            & Anna Lee C. Iijima & 26                \\\\\n",
       "\t20 & Germany        & Joe Czerwinski & 11            \\\\\n",
       "\t21 & Germany & NA      & 4      \\\\\n",
       "\t22 & Greece     & Roger Voss & 1         \\\\\n",
       "\t23 & Greece          & Susan Kostrzewa & 4              \\\\\n",
       "\t24 & Hungary         & Susan Kostrzewa & 1              \\\\\n",
       "\t25 & Israel        & Lauren Buzzeo & 5            \\\\\n",
       "\t26 & Israel        & Mike DeSimone & 7            \\\\\n",
       "\t27 & Israel          & Susan Kostrzewa & 1              \\\\\n",
       "\t28 & Italy          & Joe Czerwinski & 1             \\\\\n",
       "\t29 & Italy         & Kerin O’Keefe & 812          \\\\\n",
       "\t30 & Italy             & Michael Schachner & 6                \\\\\n",
       "\t31 & Italy      & Roger Voss & 12        \\\\\n",
       "\t32 & Italy & NA    & 1603 \\\\\n",
       "\t33 & New Zealand    & Joe Czerwinski & 38            \\\\\n",
       "\t34 & Portugal   & Roger Voss & 754       \\\\\n",
       "\t35 & Slovenia           & Anna Lee C. Iijima & 7                 \\\\\n",
       "\t36 & South Africa  & Lauren Buzzeo & 100          \\\\\n",
       "\t37 & South Africa & Roger Voss   & 5           \\\\\n",
       "\t38 & South Africa    & Susan Kostrzewa & 1              \\\\\n",
       "\t39 & Spain             & Michael Schachner & 67               \\\\\n",
       "\t40 & US                 & Alexander Peartree & 2                 \\\\\n",
       "\t41 & US                 & Anna Lee C. Iijima & 10                \\\\\n",
       "\t42 & US           & Carrie Dykes & 1           \\\\\n",
       "\t43 & US         & Jim Gordon & 5         \\\\\n",
       "\t44 & US            & Matt Kettmann & 87           \\\\\n",
       "\t45 & US           & Paul Gregutt & 29          \\\\\n",
       "\t46 & US               & Sean P. Sullivan & 38              \\\\\n",
       "\t47 & US              & Susan Kostrzewa & 2              \\\\\n",
       "\t48 & US             & Virginie Boone & 26            \\\\\n",
       "\t49 & US & NA & 19\\\\\n",
       "\\end{tabular}\n"
      ],
      "text/plain": [
       "        country        taster_name Count\n",
       "1     Argentina  Michael Schachner    43\n",
       "2     Australia     Joe Czerwinski    23\n",
       "3     Australia               <NA>     5\n",
       "4       Austria   Anne Krebiehl MW   219\n",
       "5       Austria         Roger Voss   279\n",
       "6        Brazil  Michael Schachner     5\n",
       "7        Canada     Joe Czerwinski     1\n",
       "8        Canada       Paul Gregutt     1\n",
       "9         Chile  Michael Schachner    54\n",
       "10      Croatia    Susan Kostrzewa     2\n",
       "11        Egypt    Susan Kostrzewa     1\n",
       "12      England   Anne Krebiehl MW     4\n",
       "13       France   Anne Krebiehl MW    31\n",
       "14       France     Joe Czerwinski    48\n",
       "15       France      Lauren Buzzeo    11\n",
       "16       France         Roger Voss  3964\n",
       "17       France               <NA>    13\n",
       "18      Georgia      Mike DeSimone     2\n",
       "19      Germany Anna Lee C. Iijima    26\n",
       "20      Germany     Joe Czerwinski    11\n",
       "21      Germany               <NA>     4\n",
       "22       Greece         Roger Voss     1\n",
       "23       Greece    Susan Kostrzewa     4\n",
       "24      Hungary    Susan Kostrzewa     1\n",
       "25       Israel      Lauren Buzzeo     5\n",
       "26       Israel      Mike DeSimone     7\n",
       "27       Israel    Susan Kostrzewa     1\n",
       "28        Italy     Joe Czerwinski     1\n",
       "29        Italy      Kerin O’Keefe   812\n",
       "30        Italy  Michael Schachner     6\n",
       "31        Italy         Roger Voss    12\n",
       "32        Italy               <NA>  1603\n",
       "33  New Zealand     Joe Czerwinski    38\n",
       "34     Portugal         Roger Voss   754\n",
       "35     Slovenia Anna Lee C. Iijima     7\n",
       "36 South Africa      Lauren Buzzeo   100\n",
       "37 South Africa         Roger Voss     5\n",
       "38 South Africa    Susan Kostrzewa     1\n",
       "39        Spain  Michael Schachner    67\n",
       "40           US Alexander Peartree     2\n",
       "41           US Anna Lee C. Iijima    10\n",
       "42           US       Carrie Dykes     1\n",
       "43           US         Jim Gordon     5\n",
       "44           US      Matt Kettmann    87\n",
       "45           US       Paul Gregutt    29\n",
       "46           US   Sean P. Sullivan    38\n",
       "47           US    Susan Kostrzewa     2\n",
       "48           US     Virginie Boone    26\n",
       "49           US               <NA>    19"
      ]
     },
     "metadata": {},
     "output_type": "display_data"
    }
   ],
   "source": [
    "sample %>% filter(is.na(price)) %>% group_by(country, taster_name) %>% summarize(\"Count\" = n()) "
   ]
  },
  {
   "cell_type": "code",
   "execution_count": 6,
   "metadata": {},
   "outputs": [
    {
     "data": {},
     "metadata": {},
     "output_type": "display_data"
    },
    {
     "data": {
      "image/png": "[encoded data removed]",
      "text/plain": [
       "plot without title"
      ]
     },
     "metadata": {},
     "output_type": "display_data"
    }
   ],
   "source": [
    "sample %>% filter(price < 500) %>% ggplot(aes(x = price)) + geom_histogram(bins = 100)"
   ]
  },
  {
   "cell_type": "code",
   "execution_count": 8,
   "metadata": {
    "collapsed": true
   },
   "outputs": [],
   "source": [
    "sample %>% group_by(variety) %>% summarize(\"Average_Price\" = mean(price, na.rm = T), \n",
    "                                                                                 \"Count\" = n()) %>% \n",
    "filter(is.na(Average_Price)) %>% select(variety) %>% unlist() -> drop_variety"
   ]
  },
  {
   "cell_type": "code",
   "execution_count": 9,
   "metadata": {
    "collapsed": true
   },
   "outputs": [],
   "source": [
    "sample %>% filter(!(variety %in% drop_variety)) -> sample2"
   ]
  },
  {
   "cell_type": "code",
   "execution_count": 16,
   "metadata": {
    "collapsed": true
   },
   "outputs": [],
   "source": [
    "impute_mean <- function(x) replace(x, is.na(x), mean(x, na.rm = TRUE))"
   ]
  },
  {
   "cell_type": "code",
   "execution_count": 29,
   "metadata": {
    "collapsed": true
   },
   "outputs": [],
   "source": [
    "sample2 %>% group_by(variety) %>% mutate(price = impute_mean(price)) %>% select(-description) -> cleanwine_price"
   ]
  },
  {
   "cell_type": "code",
   "execution_count": 30,
   "metadata": {},
   "outputs": [
    {
     "data": {
      "text/html": [
       "<table>\n",
       "<thead><tr><th></th><th scope=col>country</th><th scope=col>points</th><th scope=col>price</th><th scope=col>province</th><th scope=col>taster_name</th><th scope=col>title</th><th scope=col>variety</th><th scope=col>winery</th></tr></thead>\n",
       "<tbody>\n",
       "\t<tr><th scope=row>1</th><td>Italy                            </td><td>87                               </td><td>23.1665                          </td><td>Sicily &amp; Sardinia            </td><td>Kerin O’Keefe                    </td><td>Nicosia 2013 Vulkà Bianco  (Etna)</td><td>White Blend                      </td><td>Nicosia                          </td></tr>\n",
       "\t<tr><th scope=row>2</th><td>Portugal                                     </td><td>87                                           </td><td>15                                           </td><td>Douro                                        </td><td>Roger Voss                                   </td><td>Quinta dos Avidagos 2011 Avidagos Red (Douro)</td><td>Portuguese Red                               </td><td>Quinta dos Avidagos                          </td></tr>\n",
       "\t<tr><th scope=row>3</th><td>US                                           </td><td>87                                           </td><td>14                                           </td><td>Oregon                                       </td><td>Paul Gregutt                                 </td><td>Rainstorm 2013 Pinot Gris (Willamette Valley)</td><td>Pinot Gris                                   </td><td>Rainstorm                                    </td></tr>\n",
       "\t<tr><th scope=row>4</th><td>US                                                                 </td><td>87                                                                 </td><td>13                                                                 </td><td>Michigan                                                           </td><td>Alexander Peartree                                                 </td><td>St. Julian 2013 Reserve Late Harvest Riesling (Lake Michigan Shore)</td><td>Riesling                                                           </td><td>St. Julian                                                         </td></tr>\n",
       "\t<tr><th scope=row>5</th><td>US                                                                                 </td><td>87                                                                                 </td><td>65                                                                                 </td><td>Oregon                                                                             </td><td>Paul Gregutt                                                                       </td><td>Sweet Cheeks 2012 Vintner's Reserve Wild Child Block Pinot Noir (Willamette Valley)</td><td>Pinot Noir                                                                         </td><td>Sweet Cheeks                                                                       </td></tr>\n",
       "\t<tr><th scope=row>6</th><td>Spain                                                </td><td>87                                                   </td><td>15                                                   </td><td>Northern Spain                                       </td><td>Michael Schachner                                    </td><td>Tandem 2011 Ars In Vitro Tempranillo-Merlot (Navarra)</td><td>Tempranillo-Merlot                                   </td><td>Tandem                                               </td></tr>\n",
       "</tbody>\n",
       "</table>\n"
      ],
      "text/latex": [
       "\\begin{tabular}{r|llllllll}\n",
       "  & country & points & price & province & taster\\_name & title & variety & winery\\\\\n",
       "\\hline\n",
       "\t1 & Italy                             & 87                                & 23.1665                           & Sicily \\& Sardinia               & Kerin O’Keefe                     & Nicosia 2013 Vulkà Bianco  (Etna) & White Blend                       & Nicosia                          \\\\\n",
       "\t2 & Portugal                                      & 87                                            & 15                                            & Douro                                         & Roger Voss                                    & Quinta dos Avidagos 2011 Avidagos Red (Douro) & Portuguese Red                                & Quinta dos Avidagos                          \\\\\n",
       "\t3 & US                                            & 87                                            & 14                                            & Oregon                                        & Paul Gregutt                                  & Rainstorm 2013 Pinot Gris (Willamette Valley) & Pinot Gris                                    & Rainstorm                                    \\\\\n",
       "\t4 & US                                                                  & 87                                                                  & 13                                                                  & Michigan                                                            & Alexander Peartree                                                  & St. Julian 2013 Reserve Late Harvest Riesling (Lake Michigan Shore) & Riesling                                                            & St. Julian                                                         \\\\\n",
       "\t5 & US                                                                                  & 87                                                                                  & 65                                                                                  & Oregon                                                                              & Paul Gregutt                                                                        & Sweet Cheeks 2012 Vintner's Reserve Wild Child Block Pinot Noir (Willamette Valley) & Pinot Noir                                                                          & Sweet Cheeks                                                                       \\\\\n",
       "\t6 & Spain                                                 & 87                                                    & 15                                                    & Northern Spain                                        & Michael Schachner                                     & Tandem 2011 Ars In Vitro Tempranillo-Merlot (Navarra) & Tempranillo-Merlot                                    & Tandem                                               \\\\\n",
       "\\end{tabular}\n"
      ],
      "text/plain": [
       "   country points   price          province        taster_name\n",
       "1    Italy     87 23.1665 Sicily & Sardinia      Kerin O’Keefe\n",
       "2 Portugal     87 15.0000             Douro         Roger Voss\n",
       "3       US     87 14.0000            Oregon       Paul Gregutt\n",
       "4       US     87 13.0000          Michigan Alexander Peartree\n",
       "5       US     87 65.0000            Oregon       Paul Gregutt\n",
       "6    Spain     87 15.0000    Northern Spain  Michael Schachner\n",
       "                                                                                title\n",
       "1                                                   Nicosia 2013 Vulkà Bianco  (Etna)\n",
       "2                                       Quinta dos Avidagos 2011 Avidagos Red (Douro)\n",
       "3                                       Rainstorm 2013 Pinot Gris (Willamette Valley)\n",
       "4                 St. Julian 2013 Reserve Late Harvest Riesling (Lake Michigan Shore)\n",
       "5 Sweet Cheeks 2012 Vintner's Reserve Wild Child Block Pinot Noir (Willamette Valley)\n",
       "6                               Tandem 2011 Ars In Vitro Tempranillo-Merlot (Navarra)\n",
       "             variety              winery\n",
       "1        White Blend             Nicosia\n",
       "2     Portuguese Red Quinta dos Avidagos\n",
       "3         Pinot Gris           Rainstorm\n",
       "4           Riesling          St. Julian\n",
       "5         Pinot Noir        Sweet Cheeks\n",
       "6 Tempranillo-Merlot              Tandem"
      ]
     },
     "metadata": {},
     "output_type": "display_data"
    }
   ],
   "source": [
    "cleanwine_price %>% head"
   ]
  },
  {
   "cell_type": "code",
   "execution_count": 38,
   "metadata": {
    "collapsed": true
   },
   "outputs": [],
   "source": [
    "cleanwine_price$country <- factor(cleanwine_price$country)\n",
    "cleanwine_price$province <- factor(cleanwine_price$province)\n",
    "cleanwine_price$taster_name <- factor(cleanwine_price$taster_name)\n",
    "cleanwine_price$title <- factor(cleanwine_price$title)\n",
    "cleanwine_price$variety <- factor(cleanwine_price$variety)\n",
    "cleanwine_price$winery <- factor(cleanwine_price$winery)"
   ]
  },
  {
   "cell_type": "code",
   "execution_count": null,
   "metadata": {
    "collapsed": true
   },
   "outputs": [],
   "source": [
    "gbmFit <- gbm(formula = price ~ ., data = cleanwine_price %>% select(-title, -winery), \n",
    "              n.trees = 1000, shrinkage = 0.01, interaction.depth = 2, cv.folds = 10, \n",
    "              distribution = \"gaussian\")\n",
    "\n",
    "best_iter <- gbm.perf(gbmFit, method = \"cv\")\n",
    "\n",
    "# Performance on whole dataset\n",
    "\n",
    "diff_squared <- (data$price - \n",
    "    predict(gbmFit, newdata = cleanwine_price$price, n.trees = best_iter))^2\n",
    "\n",
    "mean(diff_squared, na.rm = TRUE)"
   ]
  },
  {
   "cell_type": "code",
   "execution_count": null,
   "metadata": {
    "collapsed": true
   },
   "outputs": [],
   "source": []
  }
 ],
 "metadata": {
  "kernelspec": {
   "display_name": "R",
   "language": "R",
   "name": "ir"
  },
  "language_info": {
   "codemirror_mode": "r",
   "file_extension": ".r",
   "mimetype": "text/x-r-source",
   "name": "R",
   "pygments_lexer": "r",
   "version": "3.4.2"
  }
 },
 "nbformat": 4,
 "nbformat_minor": 2
}
