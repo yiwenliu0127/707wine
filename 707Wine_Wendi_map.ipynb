{
 "cells": [
  {
   "cell_type": "code",
   "execution_count": 17,
   "metadata": {
    "collapsed": false
   },
   "outputs": [
    {
     "name": "stderr",
     "output_type": "stream",
     "text": [
      "Loading required package: rgeos\n",
      "Warning message in library(package, lib.loc = lib.loc, character.only = TRUE, logical.return = TRUE, :\n",
      "“there is no package called ‘rgeos’”Loading required package: Cairo\n",
      "Warning message in library(package, lib.loc = lib.loc, character.only = TRUE, logical.return = TRUE, :\n",
      "“there is no package called ‘Cairo’”Loading required package: rgdal\n",
      "Warning message in library(package, lib.loc = lib.loc, character.only = TRUE, logical.return = TRUE, :\n",
      "“there is no package called ‘rgdal’”"
     ]
    }
   ],
   "source": [
    "require(ggplot2)\n",
    "require(maptools)\n",
    "require(rgeos)\n",
    "require(Cairo)\n",
    "require(ggmap)\n",
    "require(scales)\n",
    "require(RColorBrewer)\n",
    "require(rgdal)\n",
    "require(maps)\n",
    "require(tidyr)\n",
    "require(dplyr)"
   ]
  },
  {
   "cell_type": "code",
   "execution_count": null,
   "metadata": {
    "collapsed": true
   },
   "outputs": [],
   "source": [
    "# import US map\n",
    "states.coords <- map_data(\"state\")\n",
    "dim(states.coords)\n",
    "ggplot() + \n",
    "geom_polygon(data=states.coords, \n",
    "             aes(x=long, y=lat, group = group),\n",
    "             colour=\"white\", fill=\"grey1\") + \n",
    "theme_bw()"
   ]
  },
  {
   "cell_type": "code",
   "execution_count": null,
   "metadata": {
    "collapsed": true
   },
   "outputs": [],
   "source": [
    "## Convert 'state_tb2' states abbreviations to full names states 'state_tb2$State_FN' using abb2state.R function (Thanks to Guangyang Li)\n",
    "abb2state <- function(name, convert = F, strict = F){\n",
    "  data(state)\n",
    "  # state data doesn't include DC\n",
    "  state = list()\n",
    "  state[['name']] = c(state.name,\"District Of Columbia\")\n",
    "  state[['abb']] = c(state.abb,\"DC\")\n",
    "  \n",
    "  if(convert) state[c(1,2)] = state[c(2,1)]\n",
    "  \n",
    "  single.a2s <- function(s){\n",
    "    if(strict){\n",
    "      is.in = tolower(state[['abb']]) %in% tolower(s)\n",
    "      ifelse(any(is.in), state[['name']][is.in], NA)\n",
    "    }else{\n",
    "      # To check if input is in state full name or abb\n",
    "      is.in = rapply(state, function(x) tolower(x) %in% tolower(s), how=\"list\")\n",
    "      state[['name']][is.in[[ifelse(any(is.in[['name']]), 'name', 'abb')]]]\n",
    "    }\n",
    "  }\n",
    "  sapply(name, single.a2s)\n",
    "}\n",
    "states.coords$region_FN <- abb2state(states.coords$region)"
   ]
  },
  {
   "cell_type": "code",
   "execution_count": null,
   "metadata": {
    "collapsed": true
   },
   "outputs": [],
   "source": [
    "getwd()\n",
    "# '/home/jovyan/work/Repos/707wine' the data is in the Data file"
   ]
  },
  {
   "cell_type": "code",
   "execution_count": null,
   "metadata": {
    "collapsed": true
   },
   "outputs": [],
   "source": [
    "# create toy data for merging\n",
    "mydata <- data.frame(region = unique(states.coords$region_FN),price=rnorm(length(unique(states.coords$region_FN)),100,25))\n",
    "# read in US wine data with mean price, mean points, and count\n",
    "usdat <- read.csv(\"~/Data/wine-reviews/us_wine.csv\")%>%select(-X)\n",
    "usdat$province <- as.character(usdat$province)\n",
    "wprice <- merge(mydata,usdat,by.x=\"region\",by.y=\"province\",all.x=T,sort=T)%>%select(-price)\n",
    "# Merge map and wine data using respective columns 'region_FN' and 'region'\n",
    "states.dat<-merge(states.coords, wprice, by.x = 'region_FN', by.y = 'region', sort = T, all.x=T)"
   ]
  },
  {
   "cell_type": "code",
   "execution_count": null,
   "metadata": {
    "collapsed": true
   },
   "outputs": [],
   "source": [
    "# create labels\n",
    "us.name <- aggregate(cbind(long,lat)~region_FN,data = states.dat,FUN = function(x)mean(range(x)))\n",
    "us.name <- merge(us.name,wprice,by.x=\"region_FN\",by.y=\"region\",all.x=T,sort=T)"
   ]
  },
  {
   "cell_type": "code",
   "execution_count": null,
   "metadata": {
    "collapsed": true
   },
   "outputs": [],
   "source": [
    "# plotting\n",
    "ggplot(states.dat) + \n",
    "  # Represent data into polygons (states)\n",
    "  geom_polygon(aes(x = long, y = lat, group = group,fill=mean_points), colour = \"black\", lwd = 0.3) + \n",
    "  # Create a projection\n",
    "  coord_map(project=\"conic\", lat0 = 30) + \n",
    "  # Define a continuous gradient scale to illustrate the \"density\" of variable of interest\n",
    "  scale_fill_continuous(low=\"white\", high=\"darkgreen\", name =\"wine mean points\") +\n",
    "  # Add title, hide axes, background and gridlines\n",
    "  labs(title=\"Wine mean points by state in USA\") +\n",
    "  geom_text(data=us.name,aes(long,lat,label=mean_points),size=3,fontface='bold')+\n",
    "  theme_bw() +\n",
    "  theme(axis.ticks = element_blank(),\n",
    "        axis.text.x = element_blank(),\n",
    "        axis.text.y = element_blank(),\n",
    "        axis.title.x= element_blank(),\n",
    "        axis.title.y= element_blank(),\n",
    "        panel.border = element_blank(),\n",
    "        panel.grid.minor=element_blank(),\n",
    "        panel.grid.major=element_blank())"
   ]
  },
  {
   "cell_type": "markdown",
   "metadata": {},
   "source": [
    "## For europe wines:"
   ]
  },
  {
   "cell_type": "code",
   "execution_count": 18,
   "metadata": {
    "collapsed": false
   },
   "outputs": [
    {
     "data": {
      "text/html": [
       "'/home/jovyan/work/Repos/707wine'"
      ],
      "text/latex": [
       "'/home/jovyan/work/Repos/707wine'"
      ],
      "text/markdown": [
       "'/home/jovyan/work/Repos/707wine'"
      ],
      "text/plain": [
       "[1] \"/home/jovyan/work/Repos/707wine\""
      ]
     },
     "metadata": {},
     "output_type": "display_data"
    }
   ],
   "source": [
    "getwd()\n",
    "# '/home/jovyan/work/Repos/707wine' the data is in the Data file"
   ]
  },
  {
   "cell_type": "code",
   "execution_count": null,
   "metadata": {
    "collapsed": true
   },
   "outputs": [],
   "source": [
    "#### Europe wine data\n",
    "eucountry <- read.csv(\"~/Data/wine-reviews/eu_country.csv\")%>%select(-X)\n",
    "eudata <- read.csv(\"~/Data/wine-reviews/eu_wine.csv\")%>%select(-X)\n",
    "euwine <- merge(eucountry,eudata,by.x=\"b\",by.y=\"country\",sort=T,all.x=T)"
   ]
  },
  {
   "cell_type": "code",
   "execution_count": null,
   "metadata": {
    "collapsed": true
   },
   "outputs": [],
   "source": [
    "#### Europe map\n",
    "eumap <- readShapeSpatial(\"~/Data/wine-reviews/NUTS_RG_60M_2016_3035_LEVL_0.shp\")\n",
    "plot(eumap)"
   ]
  },
  {
   "cell_type": "code",
   "execution_count": null,
   "metadata": {
    "collapsed": true
   },
   "outputs": [],
   "source": [
    "## create data table with mean price, mean points, count\n",
    "eumap<- fortify(eumap,region = 'NUTS_ID')\n",
    "eudat <- merge(eumap,euwine,by.x=\"id\",by.y=\"a\",all.x=T,sort=T)\n",
    "## restrict to main europe region\n",
    "eudat1 <- subset(eudat, long > -2000000 & long < 8000000 & lat > -2000000 & lat < 5400000)"
   ]
  },
  {
   "cell_type": "code",
   "execution_count": null,
   "metadata": {
    "collapsed": true
   },
   "outputs": [],
   "source": [
    "## create text fill for map\n",
    "eu.name <- aggregate(cbind(long,lat)~b,data = eudat1,FUN = function(x)mean(range(x)))\n",
    "eu.name <- merge(eu.name,euwine,by.x=\"b\",by.y=\"b\",all.x=T,sort=T)"
   ]
  },
  {
   "cell_type": "code",
   "execution_count": null,
   "metadata": {
    "collapsed": true
   },
   "outputs": [],
   "source": [
    "## plotting\n",
    "ggplot(data=eudat1) +\n",
    "  geom_polygon(aes(x=long, y=lat, group=group, fill=count)) +\n",
    "  geom_path(aes(x=long, y=lat, group=group), color='black', alpha=.5) +\n",
    "  scale_fill_continuous(low=\"white\", high=\"blue\", name =\"wine count\")+\n",
    "  theme_bw() +\n",
    "  geom_text(data=eu.name,aes(long,lat,label=count),size=3,fontface='bold')+\n",
    "  theme(axis.ticks = element_blank(),\n",
    "        axis.text.x = element_blank(),\n",
    "        axis.text.y = element_blank(),\n",
    "        axis.title.x= element_blank(),\n",
    "        axis.title.y= element_blank(),\n",
    "        panel.border = element_blank(),\n",
    "    panel.grid.minor=element_blank(),\n",
    "        panel.grid.major=element_blank())+\n",
    "  labs(title=\"Wine count by country in Europe\")"
   ]
  }
 ],
 "metadata": {
  "kernelspec": {
   "display_name": "R",
   "language": "R",
   "name": "ir"
  },
  "language_info": {
   "codemirror_mode": "r",
   "file_extension": ".r",
   "mimetype": "text/x-r-source",
   "name": "R",
   "pygments_lexer": "r",
   "version": "3.3.1"
  }
 },
 "nbformat": 4,
 "nbformat_minor": 2
}
